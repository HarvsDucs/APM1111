{
 "cells": [
  {
   "cell_type": "markdown",
   "metadata": {},
   "source": [
    "# Find the (a) first, (b) second, (c) third, and (d ) fourth moments for each of the sets of data (normal, skewed-right, skewed-left, uniform)."
   ]
  },
  {
   "cell_type": "code",
   "execution_count": 1,
   "metadata": {},
   "outputs": [
    {
     "name": "stdout",
     "output_type": "stream",
     "text": [
      "50\n",
      "63.94\n",
      "4165.14\n",
      "272282.74\n",
      "17837187.06\n"
     ]
    }
   ],
   "source": [
    "#Normal\n",
    "origin = 0\n",
    "sum_total = 0\n",
    "numbers = [67, 70, 63, 65, 68, 60, 70, 64, 69, 61, 66, 6, 71, 62, 66, 68, 64, 67, 62, 66, 65, 63, 66, 65, 63, 69, 62, 67, 59, 66, 65, 63, 65, 60, 67, 64, 68, 61, 69, 65, 62, 67, 70, 64, 63, 68, 64, 65, 61, 66]\n",
    "\n",
    "for number in numbers:\n",
    "    sum_total = sum_total + (number-origin)\n",
    "first_moment = sum_total/len(numbers)\n",
    "sum_total = 0\n",
    "\n",
    "for number in numbers:\n",
    "    sum_total = sum_total + (number-origin)**2\n",
    "second_moment = sum_total/len(numbers)\n",
    "sum_total = 0\n",
    "\n",
    "for number in numbers:\n",
    "    sum_total = sum_total + (number-origin)**3\n",
    "third_moment = sum_total/len(numbers)\n",
    "sum_total = 0\n",
    "\n",
    "for number in numbers:\n",
    "    sum_total = sum_total + (number-origin)**4\n",
    "fourth_moment = sum_total/len(numbers)\n",
    "\n",
    "print(len(numbers))\n",
    "print(first_moment)\n",
    "print(second_moment)\n",
    "print(third_moment)\n",
    "print(fourth_moment)"
   ]
  },
  {
   "cell_type": "code",
   "execution_count": 2,
   "metadata": {},
   "outputs": [
    {
     "name": "stdout",
     "output_type": "stream",
     "text": [
      "50\n",
      "35.48\n",
      "1437.72\n",
      "68292.44\n",
      "3797594.04\n"
     ]
    }
   ],
   "source": [
    "#Skewed-right\n",
    "origin = 0\n",
    "sum_total = 0\n",
    "numbers = [31, 43, 30, 30, 38, 26, 29, 55, 46, 26, 29, 57, 34, 34, 36, 40, 28, 26, 66, 63, 30, 33, 24, 35, 34, 40, 24, 29, 24, 27, 35, 33, 75, 38, 34, 85, 29, 40, 41, 35, 26, 34, 19, 23, 28, 26, 31, 25, 22, 28]\n",
    "\n",
    "for number in numbers:\n",
    "    sum_total = sum_total + (number-origin)\n",
    "first_moment = sum_total/len(numbers)\n",
    "sum_total = 0\n",
    "\n",
    "for number in numbers:\n",
    "    sum_total = sum_total + (number-origin)**2\n",
    "second_moment = sum_total/len(numbers)\n",
    "sum_total = 0\n",
    "\n",
    "for number in numbers:\n",
    "    sum_total = sum_total + (number-origin)**3\n",
    "third_moment = sum_total/len(numbers)\n",
    "sum_total = 0\n",
    "\n",
    "for number in numbers:\n",
    "    sum_total = sum_total + (number-origin)**4\n",
    "fourth_moment = sum_total/len(numbers)\n",
    "\n",
    "print(len(numbers))\n",
    "print(first_moment)\n",
    "print(second_moment)\n",
    "print(third_moment)\n",
    "print(fourth_moment)"
   ]
  },
  {
   "cell_type": "code",
   "execution_count": 3,
   "metadata": {},
   "outputs": [
    {
     "name": "stdout",
     "output_type": "stream",
     "text": [
      "50\n",
      "74.2\n",
      "5925.4\n",
      "489458.8\n",
      "41396161.48\n"
     ]
    }
   ],
   "source": [
    "#Skewed-left\n",
    "origin = 0\n",
    "sum_total = 0\n",
    "numbers = [102, 55, 70, 95, 73, 79, 60, 73, 89, 85, 72, 92, 76, 93, 76, 97, 10, 70, 85, 25, 83, 58, 10, 92, 82, 87, 104, 75, 80, 66, 93, 90, 84, 73, 98, 79, 35, 71, 90, 71, 63, 58, 82, 72, 93, 44, 65, 77, 81, 77]\n",
    "\n",
    "for number in numbers:\n",
    "    sum_total = sum_total + (number-origin)\n",
    "first_moment = sum_total/len(numbers)\n",
    "sum_total = 0\n",
    "\n",
    "for number in numbers:\n",
    "    sum_total = sum_total + (number-origin)**2\n",
    "second_moment = sum_total/len(numbers)\n",
    "sum_total = 0\n",
    "\n",
    "for number in numbers:\n",
    "    sum_total = sum_total + (number-origin)**3\n",
    "third_moment = sum_total/len(numbers)\n",
    "sum_total = 0\n",
    "\n",
    "for number in numbers:\n",
    "    sum_total = sum_total + (number-origin)**4\n",
    "fourth_moment = sum_total/len(numbers)\n",
    "\n",
    "print(len(numbers))\n",
    "print(first_moment)\n",
    "print(second_moment)\n",
    "print(third_moment)\n",
    "print(fourth_moment)"
   ]
  },
  {
   "cell_type": "code",
   "execution_count": 4,
   "metadata": {},
   "outputs": [
    {
     "name": "stdout",
     "output_type": "stream",
     "text": [
      "50\n",
      "12.056000000000001\n",
      "145.42600000000002\n",
      "1755.1577600000005\n",
      "21194.59330000001\n"
     ]
    }
   ],
   "source": [
    "#Uniform\n",
    "origin = 0\n",
    "sum_total = 0\n",
    "numbers = [12.1, 12.1, 12.4, 12.1, 12.1, 12.2, 12.2, 12.2, 11.9, 12.2, 12.3, 12.3, 11.7, 12.3, 12.3, 12.4, 12.4, 12.1, 12.4, 12.4, 12.5, 11.8, 12.5, 12.5, 12.5, 11.6, 11.6, 12, 11.6, 11.6, 11.7, 12.3, 11.7, 11.7, 11.7, 11.8, 12.5, 11.8, 11.8, 11.8, 11.9, 11.9, 11.9, 12.2, 11.9, 12, 11.9, 12, 12, 12]\n",
    "\n",
    "for number in numbers:\n",
    "    sum_total = sum_total + (number-origin)\n",
    "first_moment = sum_total/len(numbers)\n",
    "sum_total = 0\n",
    "\n",
    "for number in numbers:\n",
    "    sum_total = sum_total + (number-origin)**2\n",
    "second_moment = sum_total/len(numbers)\n",
    "sum_total = 0\n",
    "\n",
    "for number in numbers:\n",
    "    sum_total = sum_total + (number-origin)**3\n",
    "third_moment = sum_total/len(numbers)\n",
    "sum_total = 0\n",
    "\n",
    "for number in numbers:\n",
    "    sum_total = sum_total + (number-origin)**4\n",
    "fourth_moment = sum_total/len(numbers)\n",
    "\n",
    "print(len(numbers))\n",
    "print(first_moment)\n",
    "print(second_moment)\n",
    "print(third_moment)\n",
    "print(fourth_moment)"
   ]
  },
  {
   "cell_type": "markdown",
   "metadata": {},
   "source": [
    "# Find the (a) first, (b) second, (c) third, and (d ) fourth moments about the mean for each of the sets of data (normal, skewed-right, skewed-left, uniform)."
   ]
  },
  {
   "cell_type": "code",
   "execution_count": 5,
   "metadata": {},
   "outputs": [
    {
     "name": "stdout",
     "output_type": "stream",
     "text": [
      "2.2737367544323206e-15\n",
      "76.81639999999996\n",
      "-3782.7764320000006\n",
      "221842.08204112004\n"
     ]
    }
   ],
   "source": [
    "#Normal\n",
    "import numpy as np\n",
    "sum_total = 0\n",
    "numbers = [67, 70, 63, 65, 68, 60, 70, 64, 69, 61, 66, 6, 71, 62, 66, 68, 64, 67, 62, 66, 65, 63, 66, 65, 63, 69, 62, 67, 59, 66, 65, 63, 65, 60, 67, 64, 68, 61, 69, 65, 62, 67, 70, 64, 63, 68, 64, 65, 61, 66]\n",
    "origin = np.mean(numbers)\n",
    "\n",
    "for number in numbers:\n",
    "    sum_total = sum_total + (number-origin)\n",
    "first_moment = sum_total/len(numbers)\n",
    "sum_total\n",
    "\n",
    "for number in numbers:\n",
    "    sum_total = sum_total + (number-origin)**2\n",
    "second_moment = sum_total/len(numbers)\n",
    "sum_total\n",
    "\n",
    "for number in numbers:\n",
    "    sum_total = sum_total + (number-origin)**3\n",
    "third_moment = sum_total/len(numbers)\n",
    "sum_total\n",
    "\n",
    "for number in numbers:\n",
    "    sum_total = sum_total + (number-origin)**4\n",
    "fourth_moment = sum_total/len(numbers)\n",
    "\n",
    "print(first_moment)\n",
    "print(second_moment)\n",
    "print(third_moment)\n",
    "print(fourth_moment)"
   ]
  },
  {
   "cell_type": "code",
   "execution_count": 6,
   "metadata": {},
   "outputs": [
    {
     "name": "stdout",
     "output_type": "stream",
     "text": [
      "4.121147867408581e-15\n",
      "178.88960000000006\n",
      "4588.1283840000015\n",
      "210642.8834355201\n"
     ]
    }
   ],
   "source": [
    "#Skewed-right\n",
    "sum_total = 0\n",
    "numbers = [31, 43, 30, 30, 38, 26, 29, 55, 46, 26, 29, 57, 34, 34, 36, 40, 28, 26, 66, 63, 30, 33, 24, 35, 34, 40, 24, 29, 24, 27, 35, 33, 75, 38, 34, 85, 29, 40, 41, 35, 26, 34, 19, 23, 28, 26, 31, 25, 22, 28]\n",
    "origin = np.mean(numbers)\n",
    "\n",
    "for number in numbers:\n",
    "    sum_total = sum_total + (number-origin)\n",
    "first_moment = sum_total/len(numbers)\n",
    "sum_total = 0\n",
    "\n",
    "for number in numbers:\n",
    "    sum_total = sum_total + (number-origin)**2\n",
    "second_moment = sum_total/len(numbers)\n",
    "sum_total = 0\n",
    "\n",
    "for number in numbers:\n",
    "    sum_total = sum_total + (number-origin)**3\n",
    "third_moment = sum_total/len(numbers)\n",
    "sum_total = 0\n",
    "\n",
    "for number in numbers:\n",
    "    sum_total = sum_total + (number-origin)**4\n",
    "fourth_moment = sum_total/len(numbers)\n",
    "\n",
    "print(first_moment)\n",
    "print(second_moment)\n",
    "print(third_moment)\n",
    "print(fourth_moment)"
   ]
  },
  {
   "cell_type": "code",
   "execution_count": 7,
   "metadata": {},
   "outputs": [
    {
     "name": "stdout",
     "output_type": "stream",
     "text": [
      "-2.842170943040401e-15\n",
      "419.76\n",
      "-12498.264000000003\n",
      "927289.7472000001\n"
     ]
    }
   ],
   "source": [
    "#Skewed-left\n",
    "sum_total = 0\n",
    "numbers = [102, 55, 70, 95, 73, 79, 60, 73, 89, 85, 72, 92, 76, 93, 76, 97, 10, 70, 85, 25, 83, 58, 10, 92, 82, 87, 104, 75, 80, 66, 93, 90, 84, 73, 98, 79, 35, 71, 90, 71, 63, 58, 82, 72, 93, 44, 65, 77, 81, 77]\n",
    "origin = np.mean(numbers)\n",
    "\n",
    "for number in numbers:\n",
    "    sum_total = sum_total + (number-origin)\n",
    "first_moment = sum_total/len(numbers)\n",
    "sum_total = 0\n",
    "\n",
    "for number in numbers:\n",
    "    sum_total = sum_total + (number-origin)**2\n",
    "second_moment = sum_total/len(numbers)\n",
    "sum_total = 0\n",
    "\n",
    "for number in numbers:\n",
    "    sum_total = sum_total + (number-origin)**3\n",
    "third_moment = sum_total/len(numbers)\n",
    "sum_total = 0\n",
    "\n",
    "for number in numbers:\n",
    "    sum_total = sum_total + (number-origin)**4\n",
    "fourth_moment = sum_total/len(numbers)\n",
    "\n",
    "print(first_moment)\n",
    "print(second_moment)\n",
    "print(third_moment)\n",
    "print(fourth_moment)"
   ]
  },
  {
   "cell_type": "code",
   "execution_count": 8,
   "metadata": {},
   "outputs": [
    {
     "name": "stdout",
     "output_type": "stream",
     "text": [
      "50\n",
      "-9.237055564881303e-16\n",
      "0.07886400000000006\n",
      "0.0003352319999997715\n",
      "0.011251168512000018\n"
     ]
    }
   ],
   "source": [
    "#Uniform\n",
    "sum_total = 0\n",
    "numbers = [12.1, 12.1, 12.4, 12.1, 12.1, 12.2, 12.2, 12.2, 11.9, 12.2, 12.3, 12.3, 11.7, 12.3, 12.3, 12.4, 12.4, 12.1, 12.4, 12.4, 12.5, 11.8, 12.5, 12.5, 12.5, 11.6, 11.6, 12, 11.6, 11.6, 11.7, 12.3, 11.7, 11.7, 11.7, 11.8, 12.5, 11.8, 11.8, 11.8, 11.9, 11.9, 11.9, 12.2, 11.9, 12, 11.9, 12, 12, 12]\n",
    "origin = np.mean(numbers)\n",
    "\n",
    "for number in numbers:\n",
    "    sum_total = sum_total + (number-origin)\n",
    "first_moment = sum_total/len(numbers)\n",
    "sum_total = 0\n",
    "\n",
    "for number in numbers:\n",
    "    sum_total = sum_total + (number-origin)**2\n",
    "second_moment = sum_total/len(numbers)\n",
    "sum_total = 0\n",
    "\n",
    "for number in numbers:\n",
    "    sum_total = sum_total + (number-origin)**3\n",
    "third_moment = sum_total/len(numbers)\n",
    "sum_total = 0\n",
    "\n",
    "for number in numbers:\n",
    "    sum_total = sum_total + (number-origin)**4\n",
    "fourth_moment = sum_total/len(numbers)\n",
    "\n",
    "print(len(numbers))\n",
    "print(first_moment)\n",
    "print(second_moment)\n",
    "print(third_moment)\n",
    "print(fourth_moment)"
   ]
  },
  {
   "cell_type": "markdown",
   "metadata": {},
   "source": [
    "# Find the (a) first, (b) second, (c) third, and (d ) fourth moments about the number 75 for the set of female height measurements. (normal distribution only)"
   ]
  },
  {
   "cell_type": "code",
   "execution_count": 9,
   "metadata": {},
   "outputs": [
    {
     "name": "stdout",
     "output_type": "stream",
     "text": [
      "50\n",
      "-11.06\n",
      "188.08\n",
      "-7573.18\n",
      "460141.88\n"
     ]
    }
   ],
   "source": [
    "#Normal\n",
    "origin = 75\n",
    "sum_total = 0\n",
    "numbers = [67, 70, 63, 65, 68, 60, 70, 64, 69, 61, 66, 6, 71, 62, 66, 68, 64, 67, 62, 66, 65, 63, 66, 65, 63, 69, 62, 67, 59, 66, 65, 63, 65, 60, 67, 64, 68, 61, 69, 65, 62, 67, 70, 64, 63, 68, 64, 65, 61, 66]\n",
    "\n",
    "for number in numbers:\n",
    "    sum_total = sum_total + (number-origin)\n",
    "first_moment = sum_total/len(numbers)\n",
    "sum_total\n",
    "\n",
    "for number in numbers:\n",
    "    sum_total = sum_total + (number-origin)**2\n",
    "second_moment = sum_total/len(numbers)\n",
    "sum_total\n",
    "\n",
    "for number in numbers:\n",
    "    sum_total = sum_total + (number-origin)**3\n",
    "third_moment = sum_total/len(numbers)\n",
    "sum_total\n",
    "\n",
    "for number in numbers:\n",
    "    sum_total = sum_total + (number-origin)**4\n",
    "fourth_moment = sum_total/len(numbers)\n",
    "\n",
    "print(len(numbers))\n",
    "print(first_moment)\n",
    "print(second_moment)\n",
    "print(third_moment)\n",
    "print(fourth_moment)"
   ]
  },
  {
   "cell_type": "markdown",
   "metadata": {},
   "source": [
    "# Using the results of items 2 and 3 for the set of female height measurements, verify the relations between the moments"
   ]
  },
  {
   "cell_type": "code",
   "execution_count": 11,
   "metadata": {},
   "outputs": [
    {
     "name": "stdout",
     "output_type": "stream",
     "text": [
      "65.7564\n",
      "-4038.483632\n",
      "218254.94357712\n",
      "Confirmed all as the same as from the 6th cell!\n"
     ]
    }
   ],
   "source": [
    "m2 = second_moment - ((first_moment)**2)\n",
    "m3 = third_moment - (3*first_moment*second_moment) + (2*(first_moment**3))\n",
    "m4 = fourth_moment - (4*first_moment*third_moment) + (6*(first_moment**2)*second_moment) - (3*(first_moment**4))\n",
    "print(m2)\n",
    "print(m3)\n",
    "print(m4)\n",
    "print(\"Confirmed all as the same as from the 6th cell!\")"
   ]
  },
  {
   "cell_type": "code",
   "execution_count": null,
   "metadata": {},
   "outputs": [],
   "source": []
  }
 ],
 "metadata": {
  "kernelspec": {
   "display_name": "Python 3 (ipykernel)",
   "language": "python",
   "name": "python3"
  },
  "language_info": {
   "codemirror_mode": {
    "name": "ipython",
    "version": 3
   },
   "file_extension": ".py",
   "mimetype": "text/x-python",
   "name": "python",
   "nbconvert_exporter": "python",
   "pygments_lexer": "ipython3",
   "version": "3.9.13"
  }
 },
 "nbformat": 4,
 "nbformat_minor": 2
}
