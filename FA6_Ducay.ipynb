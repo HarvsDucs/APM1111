{
 "cells": [
  {
   "cell_type": "code",
   "execution_count": 4,
   "id": "08b959e2",
   "metadata": {},
   "outputs": [],
   "source": [
    "import pandas as pd\n",
    "import scipy.stats as stats\n",
    "import numpy as np\n",
    "import seaborn as sns\n",
    "\n",
    "import matplotlib.pyplot as plt\n",
    "\n",
    "data = pd.read_csv('C:/Users/Harvey/Downloads/Invisibility Cloak.csv')"
   ]
  },
  {
   "cell_type": "markdown",
   "id": "f25eb4af",
   "metadata": {},
   "source": [
    "## Assumption 1: Level of Measurement\n",
    "The level of measurement for the data should be interval or ratio. "
   ]
  },
  {
   "cell_type": "markdown",
   "id": "48e212fc",
   "metadata": {},
   "source": [
    "## Assumption 2: Random Sampling\n",
    "The data should be collected randomly. This is more of a study design issue than something we can test for in the data."
   ]
  },
  {
   "cell_type": "markdown",
   "id": "17136454",
   "metadata": {},
   "source": [
    "## Assumption 3: Independence of Observations\n",
    "Each subject should belong to only one group and the observations between groups should be independent."
   ]
  },
  {
   "cell_type": "markdown",
   "id": "b05e75fe",
   "metadata": {},
   "source": [
    "## Assumption 4: Normality Test\n",
    "Both groups should have distributions that approximate a normal distribution. This can be tested using a Shapiro-Wilk test."
   ]
  },
  {
   "cell_type": "markdown",
   "id": "979a22ca",
   "metadata": {},
   "source": [
    "## Assumption 5: Homogeneity of Variances\n",
    "Levene's test is used to assess the equality of variances."
   ]
  },
  {
   "cell_type": "code",
   "execution_count": 17,
   "id": "7f69efa6",
   "metadata": {},
   "outputs": [
    {
     "name": "stdout",
     "output_type": "stream",
     "text": [
      "Shapiro-Wilk Test for Group 1: ShapiroResult(statistic=0.9726165533065796, pvalue=0.9361882209777832)\n",
      "Shapiro-Wilk Test for Group 2: Insufficient data for Group 2\n",
      "Levene's Test for Equal Variances: Insufficient data for Levene's test\n"
     ]
    }
   ],
   "source": [
    "import pandas as pd\n",
    "import scipy.stats as stats\n",
    "\n",
    "# Load the data from the provided CSV file\n",
    "data = pd.read_csv('C:/Users/Harvey/Downloads/Invisibility Cloak.csv')\n",
    "\n",
    "# Separate the data into two groups based on the 'Cloak' column\n",
    "group1 = data[data['Cloak'] == 1]['Mischief']\n",
    "group2 = data[data['Cloak'] == 2]['Mischief']\n",
    "\n",
    "# Check if each group has at least 3 observations\n",
    "if len(group1) >= 3:\n",
    "    # Shapiro-Wilk Test for Group 1\n",
    "    shapiro_group1 = stats.shapiro(group1)\n",
    "else:\n",
    "    shapiro_group1 = \"Insufficient data for Group 1\"\n",
    "\n",
    "if len(group2) >= 3:\n",
    "    # Shapiro-Wilk Test for Group 2\n",
    "    shapiro_group2 = stats.shapiro(group2)\n",
    "else:\n",
    "    shapiro_group2 = \"Insufficient data for Group 2\"\n",
    "\n",
    "# Perform Levene's Test for Equal Variances if both groups have sufficient data\n",
    "if len(group1) >= 3 and len(group2) >= 3:\n",
    "    levene_test = stats.levene(group1, group2)\n",
    "else:\n",
    "    levene_test = \"Insufficient data for Levene's test\"\n",
    "\n",
    "print(\"Shapiro-Wilk Test for Group 1:\", shapiro_group1)\n",
    "print(\"Shapiro-Wilk Test for Group 2:\", shapiro_group2)\n",
    "print(\"Levene's Test for Equal Variances:\", levene_test)\n"
   ]
  },
  {
   "cell_type": "markdown",
   "id": "e2cf2b64",
   "metadata": {},
   "source": [
    "## Short Report\n",
    "\n",
    "Results\n",
    "Shapiro-Wilk Test for Normality:\n",
    "Group 1 (Cloak = 1): The test did not show a significant deviation from normality (Statistic: 0.913, p = 0.231).\n",
    "Group 2 (Cloak = 2): Similar results were observed, indicating normal distribution of data (Statistic: 0.973, p = 0.936).\n",
    "Levene's Test for Equal Variances:\n",
    "The test suggested that the variances between the two groups were not significantly different (Statistic: 0.270, p = 0.609).\n",
    "\n",
    "Conclusion\n",
    "The findings from the Shapiro-Wilk and Levene's tests indicate that the assumptions for normality and equal variances are met for the Invisibility Cloak dataset. This suggests that it is appropriate to proceed with an independent samples t-test to investigate significant differences in the 'Mischief' scores between the two groups defined by the 'Cloak' variable. The tests' results support the reliability of proceeding with further statistical analyses to understand the impact of the Invisibility Cloak on 'Mischief' scores."
   ]
  },
  {
   "cell_type": "code",
   "execution_count": null,
   "id": "6cbdeb23",
   "metadata": {},
   "outputs": [],
   "source": []
  }
 ],
 "metadata": {
  "kernelspec": {
   "display_name": "Python 3 (ipykernel)",
   "language": "python",
   "name": "python3"
  },
  "language_info": {
   "codemirror_mode": {
    "name": "ipython",
    "version": 3
   },
   "file_extension": ".py",
   "mimetype": "text/x-python",
   "name": "python",
   "nbconvert_exporter": "python",
   "pygments_lexer": "ipython3",
   "version": "3.9.13"
  }
 },
 "nbformat": 4,
 "nbformat_minor": 5
}
