{
 "cells": [
  {
   "cell_type": "markdown",
   "id": "3a131958",
   "metadata": {},
   "source": [
    "# 8.18"
   ]
  },
  {
   "cell_type": "code",
   "execution_count": 1,
   "id": "0642cc51",
   "metadata": {},
   "outputs": [
    {
     "name": "stdout",
     "output_type": "stream",
     "text": [
      "(9,9)\n",
      "(9,12)\n",
      "(9,15)\n",
      "(12,9)\n",
      "(12,12)\n",
      "(12,15)\n",
      "(15,9)\n",
      "(15,12)\n",
      "(15,15)\n"
     ]
    }
   ],
   "source": [
    "# Samples of size n = 2\n",
    "print(\"(9,9)\")\n",
    "print(\"(9,12)\")\n",
    "print(\"(9,15)\")\n",
    "\n",
    "print(\"(12,9)\")\n",
    "print(\"(12,12)\")\n",
    "print(\"(12,15)\")\n",
    "\n",
    "print(\"(15,9)\")\n",
    "print(\"(15,12)\")\n",
    "print(\"(15,15)\")\n"
   ]
  },
  {
   "cell_type": "code",
   "execution_count": 2,
   "id": "89066eb2",
   "metadata": {},
   "outputs": [
    {
     "data": {
      "image/png": "[encoded data removed]",
      "text/plain": [
       "<Figure size 640x480 with 1 Axes>"
      ]
     },
     "metadata": {},
     "output_type": "display_data"
    },
    {
     "name": "stdout",
     "output_type": "stream",
     "text": [
      "Population mean: 12.0\n",
      "Mean of sample means: 12.0\n",
      "Population variance: 6.0\n",
      "Variance of sample means: 3.0\n"
     ]
    }
   ],
   "source": [
    "import matplotlib.pyplot as plt\n",
    "import numpy as np\n",
    "\n",
    "# Given values and probabilities\n",
    "values = np.array([9, 12, 15])\n",
    "probabilities = np.array([1/3, 1/3, 1/3])\n",
    "\n",
    "# all possible samples of size n=2 with replacement\n",
    "samples = [(x, y) for x in values for y in values]\n",
    "\n",
    "# means of these samples\n",
    "sample_means = [np.mean(sample) for sample in samples]\n",
    "\n",
    "# variance of these sample means\n",
    "var_sample_means = np.var(sample_means)\n",
    "\n",
    "# population mean and variance\n",
    "pop_mean = np.sum(values * probabilities)\n",
    "pop_var = np.sum(((values - pop_mean)**2) * probabilities)\n",
    "\n",
    "# plotting the sampling distribution of the mean\n",
    "plt.hist(sample_means, bins=50, density=True, alpha=0.6, color='g')\n",
    "plt.title('Sampling Distribution of the Mean')\n",
    "plt.xlabel('Sample Mean')\n",
    "plt.ylabel('Frequency')\n",
    "plt.show()\n",
    "\n",
    "# sample mean equals population mean\n",
    "print(f\"Population mean: {pop_mean}\")\n",
    "print(f\"Mean of sample means: {np.mean(sample_means)}\")\n",
    "\n",
    "# variance of sample means equals population variance divided by n\n",
    "print(f\"Population variance: {pop_var}\")\n",
    "print(f\"Variance of sample means: {var_sample_means}\")\n"
   ]
  },
  {
   "cell_type": "markdown",
   "id": "aac6032d",
   "metadata": {},
   "source": [
    "# 8.21"
   ]
  },
  {
   "cell_type": "code",
   "execution_count": 3,
   "id": "d6aacec2",
   "metadata": {},
   "outputs": [
    {
     "name": "stdout",
     "output_type": "stream",
     "text": [
      "means of the samples: [3.0, 5.0, 7.0, 9.0, 5.0, 7.0, 9.0, 11.0, 7.0, 9.0, 11.0, 13.0, 9.0, 11.0, 13.0, 15.0]\n",
      "mean: 9.0\n",
      "standard deviation: 4.47213595499958\n",
      "mean of sampling distribution of means: 9.0\n",
      "standard deviation of sampling distribution of means: 3.1622776601683795\n"
     ]
    }
   ],
   "source": [
    "import math\n",
    "\n",
    "population = [3, 7, 11, 15]\n",
    "mean = sum(population) / len(population)\n",
    "\n",
    "population = np.array([3, 7, 11, 15])\n",
    "mean = sum(population) / len(population)\n",
    "variance = sum((x - mean) ** 2 for x in population) / len(population)\n",
    "std_dev = math.sqrt(variance)\n",
    "\n",
    "# all possible samples of size n=2 with replacement\n",
    "samples = [(x, y) for x in population for y in population]\n",
    "\n",
    "# means of these samples\n",
    "sample_means = [np.mean(sample) for sample in samples]\n",
    "\n",
    "# standard deviation of these sample means\n",
    "sample_std = np.std(sample_means)\n",
    "\n",
    "# standard deviation of these sample means\n",
    "sample_mean = np.mean(sample_means)\n",
    "\n",
    "print(f\"means of the samples: {sample_means}\")\n",
    "print(f\"mean: {mean}\")\n",
    "print(f\"standard deviation: {std_dev}\")\n",
    "print(f\"mean of sampling distribution of means: {sample_mean}\")\n",
    "print(f\"standard deviation of sampling distribution of means: {sample_std}\")"
   ]
  },
  {
   "cell_type": "markdown",
   "id": "f0698c69",
   "metadata": {},
   "source": [
    "# 8.34"
   ]
  },
  {
   "cell_type": "code",
   "execution_count": 4,
   "id": "ddc1713d",
   "metadata": {},
   "outputs": [
    {
     "name": "stdout",
     "output_type": "stream",
     "text": [
      "Probability for scenario a: 0.0023388674905236374\n",
      "Probability for scenario b: 0.9522851197626488\n",
      "Probability for scenario c: 0.8710504823538305\n"
     ]
    }
   ],
   "source": [
    "import numpy as np\n",
    "from scipy.stats import norm\n",
    "\n",
    "def normal_approximation_probability(n, p, x1, x2):\n",
    "    mu = p\n",
    "    sigma = np.sqrt((p * (1 - p)) / n)\n",
    "    \n",
    "    z1 = (x1 / n - mu) / sigma\n",
    "    z2 = (x2 / n - mu) / sigma\n",
    "    \n",
    "    prob = norm.cdf(z2) - norm.cdf(z1)\n",
    "    return prob\n",
    "\n",
    "# scenario a: Less than 40% will be boys\n",
    "n = 200\n",
    "p = 0.5\n",
    "x1 = 0\n",
    "x2 = 0.4*n\n",
    "\n",
    "prob_a = normal_approximation_probability(n, p, x1, x2)\n",
    "print(f\"Probability for scenario a: {prob_a}\")\n",
    "\n",
    "# scenario b: Between 43% and 57% will be girls\n",
    "x1 = 0.43*n\n",
    "x2 = 0.57*n\n",
    "prob_b = normal_approximation_probability(n, p, x1, x2)\n",
    "print(f\"Probability for scenario b: {prob_b}\")\n",
    "\n",
    "# scenario c: More than 54% will be boys\n",
    "x1 = 0.54*n\n",
    "x2 = n  \n",
    "prob_c = 1 - normal_approximation_probability(n, p, x1, x2)\n",
    "print(f\"Probability for scenario c: {prob_c}\")\n"
   ]
  },
  {
   "cell_type": "markdown",
   "id": "11b2e3b2",
   "metadata": {},
   "source": [
    "# 8.49"
   ]
  },
  {
   "cell_type": "code",
   "execution_count": 5,
   "id": "1217cc63",
   "metadata": {},
   "outputs": [
    {
     "name": "stdout",
     "output_type": "stream",
     "text": [
      "population mean: 12.000000000000002\n",
      "population variance: 10.8\n",
      "sample means: [6.0, 7.5, 9.0, 10.5, 12.0, 7.5, 9.0, 10.5, 12.0, 13.5, 9.0, 10.5, 12.0, 13.5, 15.0, 10.5, 12.0, 13.5, 15.0, 16.5, 12.0, 13.5, 15.0, 16.5, 18.0]\n",
      "Sample: (6, 6), Probability: 0.010000000000000002\n",
      "Sample: (6, 9), Probability: 0.020000000000000004\n",
      "Sample: (6, 12), Probability: 0.04000000000000001\n",
      "Sample: (6, 15), Probability: 0.020000000000000004\n",
      "Sample: (6, 18), Probability: 0.010000000000000002\n",
      "Sample: (9, 6), Probability: 0.020000000000000004\n",
      "Sample: (9, 9), Probability: 0.04000000000000001\n",
      "Sample: (9, 12), Probability: 0.08000000000000002\n",
      "Sample: (9, 15), Probability: 0.04000000000000001\n",
      "Sample: (9, 18), Probability: 0.020000000000000004\n",
      "Sample: (12, 6), Probability: 0.04000000000000001\n",
      "Sample: (12, 9), Probability: 0.08000000000000002\n",
      "Sample: (12, 12), Probability: 0.16000000000000003\n",
      "Sample: (12, 15), Probability: 0.08000000000000002\n",
      "Sample: (12, 18), Probability: 0.04000000000000001\n",
      "Sample: (15, 6), Probability: 0.020000000000000004\n",
      "Sample: (15, 9), Probability: 0.04000000000000001\n",
      "Sample: (15, 12), Probability: 0.08000000000000002\n",
      "Sample: (15, 15), Probability: 0.04000000000000001\n",
      "Sample: (15, 18), Probability: 0.020000000000000004\n",
      "Sample: (18, 6), Probability: 0.010000000000000002\n",
      "Sample: (18, 9), Probability: 0.020000000000000004\n",
      "Sample: (18, 12), Probability: 0.04000000000000001\n",
      "Sample: (18, 15), Probability: 0.020000000000000004\n",
      "Sample: (18, 18), Probability: 0.010000000000000002\n"
     ]
    }
   ],
   "source": [
    "import matplotlib.pyplot as plt\n",
    "import numpy as np\n",
    "\n",
    "# Given values and probabilities\n",
    "values = np.array([6, 9, 12, 15, 18])\n",
    "probabilities = np.array([0.1, 0.2, 0.4, 0.2, 0.1])\n",
    "\n",
    "# population mean and variance\n",
    "pop_mean = np.sum(values * probabilities)\n",
    "pop_var = np.sum(((values - pop_mean)**2) * probabilities)\n",
    "\n",
    "# all possible samples of size n=2 with replacement\n",
    "samples = [(x, y) for x in values for y in values]\n",
    "\n",
    "# means of these samples\n",
    "sample_means = [np.mean(sample) for sample in samples]\n",
    "\n",
    "# variance of these sample means\n",
    "var_sample_means = np.var(sample_means)\n",
    "\n",
    "# Initialize an empty list to store the probabilities of each sample\n",
    "sample_probabilities = []\n",
    "\n",
    "# Calculate the probabilities for each sample\n",
    "for x, y in samples:\n",
    "    prob_x = probabilities[np.where(values == x)[0][0]]\n",
    "    prob_y = probabilities[np.where(values == y)[0][0]]\n",
    "    sample_prob = prob_x * prob_y\n",
    "    sample_probabilities.append(sample_prob)\n",
    "\n",
    "print(f\"population mean: {pop_mean}\")\n",
    "print(f\"population variance: {pop_var}\")\n",
    "print(f\"sample means: {sample_means}\")\n",
    "\n",
    "# display the samples and their probabilities\n",
    "for sample, prob in zip(samples, sample_probabilities):\n",
    "    print(f\"Sample: {sample}, Probability: {prob}\")"
   ]
  }
 ],
 "metadata": {
  "kernelspec": {
   "display_name": "Python 3 (ipykernel)",
   "language": "python",
   "name": "python3"
  },
  "language_info": {
   "codemirror_mode": {
    "name": "ipython",
    "version": 3
   },
   "file_extension": ".py",
   "mimetype": "text/x-python",
   "name": "python",
   "nbconvert_exporter": "python",
   "pygments_lexer": "ipython3",
   "version": "3.9.13"
  }
 },
 "nbformat": 4,
 "nbformat_minor": 5
}
