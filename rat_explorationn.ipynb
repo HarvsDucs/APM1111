{
 "cells": [
  {
   "cell_type": "code",
   "execution_count": 1,
   "id": "6ac55c3e",
   "metadata": {},
   "outputs": [
    {
     "data": {
      "text/html": [
       "<div>\n",
       "<style scoped>\n",
       "    .dataframe tbody tr th:only-of-type {\n",
       "        vertical-align: middle;\n",
       "    }\n",
       "\n",
       "    .dataframe tbody tr th {\n",
       "        vertical-align: top;\n",
       "    }\n",
       "\n",
       "    .dataframe thead th {\n",
       "        text-align: right;\n",
       "    }\n",
       "</style>\n",
       "<table border=\"1\" class=\"dataframe\">\n",
       "  <thead>\n",
       "    <tr style=\"text-align: right;\">\n",
       "      <th></th>\n",
       "      <th>ID</th>\n",
       "      <th>Stimuli</th>\n",
       "      <th>Time</th>\n",
       "    </tr>\n",
       "  </thead>\n",
       "  <tbody>\n",
       "    <tr>\n",
       "      <th>0</th>\n",
       "      <td>1</td>\n",
       "      <td>Shape</td>\n",
       "      <td>2.00</td>\n",
       "    </tr>\n",
       "    <tr>\n",
       "      <th>1</th>\n",
       "      <td>2</td>\n",
       "      <td>Shape</td>\n",
       "      <td>0.75</td>\n",
       "    </tr>\n",
       "    <tr>\n",
       "      <th>2</th>\n",
       "      <td>3</td>\n",
       "      <td>Shape</td>\n",
       "      <td>1.25</td>\n",
       "    </tr>\n",
       "    <tr>\n",
       "      <th>3</th>\n",
       "      <td>4</td>\n",
       "      <td>Shape</td>\n",
       "      <td>1.00</td>\n",
       "    </tr>\n",
       "    <tr>\n",
       "      <th>4</th>\n",
       "      <td>5</td>\n",
       "      <td>Shape</td>\n",
       "      <td>1.50</td>\n",
       "    </tr>\n",
       "    <tr>\n",
       "      <th>5</th>\n",
       "      <td>6</td>\n",
       "      <td>Shape</td>\n",
       "      <td>1.25</td>\n",
       "    </tr>\n",
       "    <tr>\n",
       "      <th>6</th>\n",
       "      <td>7</td>\n",
       "      <td>Shape</td>\n",
       "      <td>1.75</td>\n",
       "    </tr>\n",
       "    <tr>\n",
       "      <th>7</th>\n",
       "      <td>8</td>\n",
       "      <td>Shape</td>\n",
       "      <td>0.50</td>\n",
       "    </tr>\n",
       "    <tr>\n",
       "      <th>8</th>\n",
       "      <td>9</td>\n",
       "      <td>Pattern</td>\n",
       "      <td>2.50</td>\n",
       "    </tr>\n",
       "    <tr>\n",
       "      <th>9</th>\n",
       "      <td>10</td>\n",
       "      <td>Pattern</td>\n",
       "      <td>3.25</td>\n",
       "    </tr>\n",
       "    <tr>\n",
       "      <th>10</th>\n",
       "      <td>11</td>\n",
       "      <td>Pattern</td>\n",
       "      <td>1.85</td>\n",
       "    </tr>\n",
       "    <tr>\n",
       "      <th>11</th>\n",
       "      <td>12</td>\n",
       "      <td>Pattern</td>\n",
       "      <td>3.05</td>\n",
       "    </tr>\n",
       "    <tr>\n",
       "      <th>12</th>\n",
       "      <td>13</td>\n",
       "      <td>Pattern</td>\n",
       "      <td>2.50</td>\n",
       "    </tr>\n",
       "    <tr>\n",
       "      <th>13</th>\n",
       "      <td>14</td>\n",
       "      <td>Pattern</td>\n",
       "      <td>3.00</td>\n",
       "    </tr>\n",
       "    <tr>\n",
       "      <th>14</th>\n",
       "      <td>15</td>\n",
       "      <td>Pattern</td>\n",
       "      <td>4.10</td>\n",
       "    </tr>\n",
       "    <tr>\n",
       "      <th>15</th>\n",
       "      <td>16</td>\n",
       "      <td>Pattern</td>\n",
       "      <td>3.75</td>\n",
       "    </tr>\n",
       "    <tr>\n",
       "      <th>16</th>\n",
       "      <td>17</td>\n",
       "      <td>Picture</td>\n",
       "      <td>4.25</td>\n",
       "    </tr>\n",
       "    <tr>\n",
       "      <th>17</th>\n",
       "      <td>18</td>\n",
       "      <td>Picture</td>\n",
       "      <td>4.10</td>\n",
       "    </tr>\n",
       "    <tr>\n",
       "      <th>18</th>\n",
       "      <td>19</td>\n",
       "      <td>Picture</td>\n",
       "      <td>4.25</td>\n",
       "    </tr>\n",
       "    <tr>\n",
       "      <th>19</th>\n",
       "      <td>20</td>\n",
       "      <td>Picture</td>\n",
       "      <td>4.40</td>\n",
       "    </tr>\n",
       "    <tr>\n",
       "      <th>20</th>\n",
       "      <td>21</td>\n",
       "      <td>Picture</td>\n",
       "      <td>3.75</td>\n",
       "    </tr>\n",
       "    <tr>\n",
       "      <th>21</th>\n",
       "      <td>22</td>\n",
       "      <td>Picture</td>\n",
       "      <td>3.05</td>\n",
       "    </tr>\n",
       "    <tr>\n",
       "      <th>22</th>\n",
       "      <td>23</td>\n",
       "      <td>Picture</td>\n",
       "      <td>3.20</td>\n",
       "    </tr>\n",
       "    <tr>\n",
       "      <th>23</th>\n",
       "      <td>24</td>\n",
       "      <td>Picture</td>\n",
       "      <td>5.00</td>\n",
       "    </tr>\n",
       "    <tr>\n",
       "      <th>24</th>\n",
       "      <td>25</td>\n",
       "      <td>Shape</td>\n",
       "      <td>2.00</td>\n",
       "    </tr>\n",
       "    <tr>\n",
       "      <th>25</th>\n",
       "      <td>26</td>\n",
       "      <td>Shape</td>\n",
       "      <td>0.75</td>\n",
       "    </tr>\n",
       "    <tr>\n",
       "      <th>26</th>\n",
       "      <td>27</td>\n",
       "      <td>Shape</td>\n",
       "      <td>1.25</td>\n",
       "    </tr>\n",
       "    <tr>\n",
       "      <th>27</th>\n",
       "      <td>28</td>\n",
       "      <td>Shape</td>\n",
       "      <td>1.00</td>\n",
       "    </tr>\n",
       "    <tr>\n",
       "      <th>28</th>\n",
       "      <td>29</td>\n",
       "      <td>Pattern</td>\n",
       "      <td>2.50</td>\n",
       "    </tr>\n",
       "    <tr>\n",
       "      <th>29</th>\n",
       "      <td>30</td>\n",
       "      <td>Pattern</td>\n",
       "      <td>3.25</td>\n",
       "    </tr>\n",
       "    <tr>\n",
       "      <th>30</th>\n",
       "      <td>31</td>\n",
       "      <td>Pattern</td>\n",
       "      <td>1.85</td>\n",
       "    </tr>\n",
       "    <tr>\n",
       "      <th>31</th>\n",
       "      <td>32</td>\n",
       "      <td>Pattern</td>\n",
       "      <td>3.05</td>\n",
       "    </tr>\n",
       "    <tr>\n",
       "      <th>32</th>\n",
       "      <td>33</td>\n",
       "      <td>Picture</td>\n",
       "      <td>4.25</td>\n",
       "    </tr>\n",
       "    <tr>\n",
       "      <th>33</th>\n",
       "      <td>34</td>\n",
       "      <td>Picture</td>\n",
       "      <td>4.40</td>\n",
       "    </tr>\n",
       "    <tr>\n",
       "      <th>34</th>\n",
       "      <td>35</td>\n",
       "      <td>Picture</td>\n",
       "      <td>3.75</td>\n",
       "    </tr>\n",
       "    <tr>\n",
       "      <th>35</th>\n",
       "      <td>36</td>\n",
       "      <td>Picture</td>\n",
       "      <td>3.05</td>\n",
       "    </tr>\n",
       "  </tbody>\n",
       "</table>\n",
       "</div>"
      ],
      "text/plain": [
       "    ID  Stimuli  Time\n",
       "0    1    Shape  2.00\n",
       "1    2    Shape  0.75\n",
       "2    3    Shape  1.25\n",
       "3    4    Shape  1.00\n",
       "4    5    Shape  1.50\n",
       "5    6    Shape  1.25\n",
       "6    7    Shape  1.75\n",
       "7    8    Shape  0.50\n",
       "8    9  Pattern  2.50\n",
       "9   10  Pattern  3.25\n",
       "10  11  Pattern  1.85\n",
       "11  12  Pattern  3.05\n",
       "12  13  Pattern  2.50\n",
       "13  14  Pattern  3.00\n",
       "14  15  Pattern  4.10\n",
       "15  16  Pattern  3.75\n",
       "16  17  Picture  4.25\n",
       "17  18  Picture  4.10\n",
       "18  19  Picture  4.25\n",
       "19  20  Picture  4.40\n",
       "20  21  Picture  3.75\n",
       "21  22  Picture  3.05\n",
       "22  23  Picture  3.20\n",
       "23  24  Picture  5.00\n",
       "24  25    Shape  2.00\n",
       "25  26    Shape  0.75\n",
       "26  27    Shape  1.25\n",
       "27  28    Shape  1.00\n",
       "28  29  Pattern  2.50\n",
       "29  30  Pattern  3.25\n",
       "30  31  Pattern  1.85\n",
       "31  32  Pattern  3.05\n",
       "32  33  Picture  4.25\n",
       "33  34  Picture  4.40\n",
       "34  35  Picture  3.75\n",
       "35  36  Picture  3.05"
      ]
     },
     "metadata": {},
     "output_type": "display_data"
    },
    {
     "data": {
      "text/plain": [
       "Index(['ID', 'Stimuli', 'Time'], dtype='object')"
      ]
     },
     "execution_count": 1,
     "metadata": {},
     "output_type": "execute_result"
    }
   ],
   "source": [
    "import pandas as pd\n",
    "\n",
    "# Load the dataset\n",
    "data = pd.read_csv('C:/Users/Harvey/Downloads/RatExploration_csvFile.csv')\n",
    "\n",
    "\n",
    "# Display the first few rows of the dataset to understand its structure\n",
    "#data.drop(['Unnamed: 3'], axis = 1)\n",
    "\n",
    "display(data)\n",
    "data.columns"
   ]
  },
  {
   "cell_type": "markdown",
   "id": "ae379294",
   "metadata": {},
   "source": [
    "## Provide a full analysis using one of the ANOVA types to compare the number of seconds the rats spent exploring the experiment chamber with the images. Is there a significant difference in time spent between the three treatment conditions: shapes, patterns, and pictures?"
   ]
  },
  {
   "cell_type": "markdown",
   "id": "8fb354c9",
   "metadata": {},
   "source": [
    "The dataset contains the following columns:\n",
    "\n",
    "ID: Identifier for each rat.\n",
    "\n",
    "Stimuli: The type of stimuli presented to the rats (e.g., shapes, patterns, pictures).\n",
    "\n",
    "Time: The time in seconds that each rat spent exploring the experiment chamber.\n",
    "\n",
    "To compare the time spent by rats in different treatment conditions (shapes, patterns, pictures), we can perform an Analysis of Variance (ANOVA). ANOVA is used to determine if there are any statistically significant differences between the means of three or more independent (unrelated) groups. In this case, the groups are the different types of stimuli."
   ]
  },
  {
   "cell_type": "code",
   "execution_count": 2,
   "id": "eb100eb4",
   "metadata": {},
   "outputs": [
    {
     "data": {
      "text/plain": [
       "F_onewayResult(statistic=62.08885876263263, pvalue=6.53173977189194e-12)"
      ]
     },
     "execution_count": 2,
     "metadata": {},
     "output_type": "execute_result"
    }
   ],
   "source": [
    "import scipy.stats as stats\n",
    "\n",
    "# Preparing the data for ANOVA\n",
    "groups = data.groupby('Stimuli')['Time']\n",
    "\n",
    "# Perform One-Way ANOVA\n",
    "anova_result = stats.f_oneway(*[group for name, group in groups])\n",
    "\n",
    "anova_result\n"
   ]
  },
  {
   "cell_type": "markdown",
   "id": "f0bbb2f3",
   "metadata": {},
   "source": [
    "F-statistic: 62.09\n",
    "\n",
    "P-value: 6.53e-12\n",
    "\n",
    "In this case, the p-value is extremely small (6.53e-12), much lower than the common alpha level of 0.05. This indicates that there is a statistically significant difference in the time spent by the rats under the three different treatment conditions (shapes, patterns, and pictures). Thus, we can conclude that the type of stimuli does significantly affect the time rats spend exploring the experiment chamber."
   ]
  },
  {
   "cell_type": "markdown",
   "id": "9ca5d1ca",
   "metadata": {},
   "source": [
    "## Check the assumptions underlying the chosen ANOVA type."
   ]
  },
  {
   "cell_type": "markdown",
   "id": "3eeafa0a",
   "metadata": {},
   "source": [
    "\n",
    "To ensure the validity of the One-Way ANOVA results, we need to check the following assumptions:\n",
    "\n",
    "Independence of Observations: The observations should be independent of each other. This is more of a study design issue and is usually assumed to be met in a well-designed experiment.\n",
    "\n",
    "Normality: The distribution of the residuals (differences between observed and predicted values) should be approximately normally distributed for each group.\n",
    "\n",
    "Homogeneity of Variances (Homoscedasticity): The variances among the groups should be approximately equal.\n",
    "\n"
   ]
  },
  {
   "cell_type": "code",
   "execution_count": 3,
   "id": "11f59df1",
   "metadata": {},
   "outputs": [
    {
     "data": {
      "text/plain": [
       "{'Shape': ShapiroResult(statistic=0.943737804889679, pvalue=0.5479545593261719),\n",
       " 'Pattern': ShapiroResult(statistic=0.9500510692596436, pvalue=0.6377314925193787),\n",
       " 'Picture': ShapiroResult(statistic=0.9151579737663269, pvalue=0.24829529225826263)}"
      ]
     },
     "execution_count": 3,
     "metadata": {},
     "output_type": "execute_result"
    }
   ],
   "source": [
    "import scipy.stats as stats\n",
    "\n",
    "# Shapiro-Wilk Test for each stimuli group\n",
    "shapiro_results = {stimulus: stats.shapiro(data[data['Stimuli'] == stimulus]['Time']) for stimulus in data['Stimuli'].unique()}\n",
    "shapiro_results"
   ]
  },
  {
   "cell_type": "markdown",
   "id": "118c123d",
   "metadata": {},
   "source": [
    "Normality Check\n",
    "We used the Shapiro-Wilk test for normality. The results are:\n",
    "\n",
    "Shapes: Shapiro statistic = 0.944, p-value = 0.548\n",
    "\n",
    "Patterns: Shapiro statistic = 0.950, p-value = 0.638\n",
    "\n",
    "Pictures: Shapiro statistic = 0.915, p-value = 0.248\n"
   ]
  },
  {
   "cell_type": "code",
   "execution_count": 4,
   "id": "cb2a0658",
   "metadata": {},
   "outputs": [
    {
     "data": {
      "text/plain": [
       "LeveneResult(statistic=0.43132798942236117, pvalue=0.6532556922411884)"
      ]
     },
     "execution_count": 4,
     "metadata": {},
     "output_type": "execute_result"
    }
   ],
   "source": [
    "# Levene's Test for homogeneity of variances across the groups\n",
    "levene_result = stats.levene(*[data[data['Stimuli'] == stimulus]['Time'] for stimulus in data['Stimuli'].unique()])\n",
    "levene_result"
   ]
  },
  {
   "cell_type": "markdown",
   "id": "c1670f76",
   "metadata": {},
   "source": [
    "Levene's test was used to assess the homogeneity of variances. The result is:\n",
    "\n",
    "Levene statistic = 0.431, p-value = 0.653\n",
    "The p-value is greater than 0.05, suggesting that the variances are approximately equal across the groups, meeting the homoscedasticity assumption."
   ]
  },
  {
   "cell_type": "markdown",
   "id": "abac3de0",
   "metadata": {},
   "source": [
    "## Conclusion"
   ]
  },
  {
   "cell_type": "markdown",
   "id": "141b31dc",
   "metadata": {},
   "source": [
    "Based on these tests, the assumptions of normality and homogeneity of variances required for One-Way ANOVA seem to be met in this dataset. Therefore, the results of the ANOVA are likely to be valid."
   ]
  },
  {
   "cell_type": "code",
   "execution_count": null,
   "id": "2bd45832",
   "metadata": {},
   "outputs": [],
   "source": []
  }
 ],
 "metadata": {
  "kernelspec": {
   "display_name": "Python 3 (ipykernel)",
   "language": "python",
   "name": "python3"
  },
  "language_info": {
   "codemirror_mode": {
    "name": "ipython",
    "version": 3
   },
   "file_extension": ".py",
   "mimetype": "text/x-python",
   "name": "python",
   "nbconvert_exporter": "python",
   "pygments_lexer": "ipython3",
   "version": "3.9.13"
  }
 },
 "nbformat": 4,
 "nbformat_minor": 5
}
