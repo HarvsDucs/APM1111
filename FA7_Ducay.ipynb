{
 "cells": [
  {
   "cell_type": "code",
   "execution_count": 1,
   "id": "42295f17",
   "metadata": {},
   "outputs": [
    {
     "data": {
      "text/html": [
       "<div>\n",
       "<style scoped>\n",
       "    .dataframe tbody tr th:only-of-type {\n",
       "        vertical-align: middle;\n",
       "    }\n",
       "\n",
       "    .dataframe tbody tr th {\n",
       "        vertical-align: top;\n",
       "    }\n",
       "\n",
       "    .dataframe thead th {\n",
       "        text-align: right;\n",
       "    }\n",
       "</style>\n",
       "<table border=\"1\" class=\"dataframe\">\n",
       "  <thead>\n",
       "    <tr style=\"text-align: right;\">\n",
       "      <th></th>\n",
       "      <th>ParticipantNumber</th>\n",
       "      <th>Condition</th>\n",
       "      <th>CriticalRecall</th>\n",
       "    </tr>\n",
       "  </thead>\n",
       "  <tbody>\n",
       "    <tr>\n",
       "      <th>0</th>\n",
       "      <td>1</td>\n",
       "      <td>Horizontal</td>\n",
       "      <td>4</td>\n",
       "    </tr>\n",
       "    <tr>\n",
       "      <th>1</th>\n",
       "      <td>3</td>\n",
       "      <td>Fixation</td>\n",
       "      <td>14</td>\n",
       "    </tr>\n",
       "    <tr>\n",
       "      <th>2</th>\n",
       "      <td>4</td>\n",
       "      <td>Horizontal</td>\n",
       "      <td>12</td>\n",
       "    </tr>\n",
       "    <tr>\n",
       "      <th>3</th>\n",
       "      <td>6</td>\n",
       "      <td>Fixation</td>\n",
       "      <td>4</td>\n",
       "    </tr>\n",
       "    <tr>\n",
       "      <th>4</th>\n",
       "      <td>7</td>\n",
       "      <td>Horizontal</td>\n",
       "      <td>11</td>\n",
       "    </tr>\n",
       "  </tbody>\n",
       "</table>\n",
       "</div>"
      ],
      "text/plain": [
       "   ParticipantNumber   Condition  CriticalRecall\n",
       "0                  1  Horizontal               4\n",
       "1                  3    Fixation              14\n",
       "2                  4  Horizontal              12\n",
       "3                  6    Fixation               4\n",
       "4                  7  Horizontal              11"
      ]
     },
     "execution_count": 1,
     "metadata": {},
     "output_type": "execute_result"
    }
   ],
   "source": [
    "import pandas as pd\n",
    "\n",
    "# Loading the data from the provided CSV file\n",
    "file_path = 'C:/Users/Harvey/Downloads/Eye Movements.csv'\n",
    "eye_movements_data = pd.read_csv(file_path)\n",
    "\n",
    "# Displaying the first few rows of the data to understand its structure\n",
    "eye_movements_data.head()\n"
   ]
  },
  {
   "cell_type": "markdown",
   "id": "b5f63b72",
   "metadata": {},
   "source": [
    "## Assumption 1: Level of Measurement\n",
    "The dependent variable, 'CriticalRecall', is measured at a ratio level, satisfying this assumption."
   ]
  },
  {
   "cell_type": "markdown",
   "id": "c621d156",
   "metadata": {},
   "source": [
    "## Assumption 2: Random Sampling\n",
    "It is assumed that the data was collected from a random sample."
   ]
  },
  {
   "cell_type": "markdown",
   "id": "e0766058",
   "metadata": {},
   "source": [
    "## Assumption 3: Independence of Observations\n",
    "Each participant's recall ability is assumed to be independent of others."
   ]
  },
  {
   "cell_type": "markdown",
   "id": "cb95622d",
   "metadata": {},
   "source": [
    "## Assumption 4: Normality Test\n",
    "\n",
    "We use the Shapiro-Wilk test to check for normality in each group."
   ]
  },
  {
   "cell_type": "code",
   "execution_count": 2,
   "id": "ca8bd642",
   "metadata": {},
   "outputs": [
    {
     "data": {
      "text/plain": [
       "(ShapiroResult(statistic=0.9260098338127136, pvalue=0.07941146194934845),\n",
       " ShapiroResult(statistic=0.9590799808502197, pvalue=0.39645466208457947))"
      ]
     },
     "execution_count": 2,
     "metadata": {},
     "output_type": "execute_result"
    }
   ],
   "source": [
    "import pandas as pd\n",
    "from scipy.stats import shapiro, levene, ttest_ind\n",
    "\n",
    "fixation_group = eye_movements_data[eye_movements_data['Condition'] == 'Fixation']['CriticalRecall']\n",
    "horizontal_group = eye_movements_data[eye_movements_data['Condition'] == 'Horizontal']['CriticalRecall']\n",
    "\n",
    "# Normality Test\n",
    "normality_fixation = shapiro(fixation_group)\n",
    "normality_horizontal = shapiro(horizontal_group)\n",
    "normality_fixation, normality_horizontal\n"
   ]
  },
  {
   "cell_type": "markdown",
   "id": "759640d3",
   "metadata": {},
   "source": [
    "## Assumption 5: Homogeneity of Variances\n",
    "Levene's test is used to assess the equality of variances."
   ]
  },
  {
   "cell_type": "code",
   "execution_count": 3,
   "id": "3483ad56",
   "metadata": {},
   "outputs": [
    {
     "data": {
      "text/plain": [
       "LeveneResult(statistic=7.504307034421693, pvalue=0.008670566634332692)"
      ]
     },
     "execution_count": 3,
     "metadata": {},
     "output_type": "execute_result"
    }
   ],
   "source": [
    "# Levene's Test for Equal Variances\n",
    "equal_variances_test = levene(fixation_group, horizontal_group)\n",
    "equal_variances_test\n"
   ]
  },
  {
   "cell_type": "markdown",
   "id": "a026369d",
   "metadata": {},
   "source": [
    "## Independent Samples T-Test\n",
    "Given the violation of the homogeneity of variances, we use Welch's t-test."
   ]
  },
  {
   "cell_type": "code",
   "execution_count": 4,
   "id": "c785c819",
   "metadata": {},
   "outputs": [
    {
     "data": {
      "text/plain": [
       "Ttest_indResult(statistic=2.8234133654901394, pvalue=0.007351503583719712)"
      ]
     },
     "execution_count": 4,
     "metadata": {},
     "output_type": "execute_result"
    }
   ],
   "source": [
    "# Welch's T-Test\n",
    "t_test_result = ttest_ind(fixation_group, horizontal_group, equal_var=False)\n",
    "t_test_result\n"
   ]
  },
  {
   "cell_type": "markdown",
   "id": "0f0bf717",
   "metadata": {},
   "source": [
    "Test Statistic (t-value): 2.823\n",
    "P-value: 0.0074"
   ]
  },
  {
   "cell_type": "markdown",
   "id": "a88e969c",
   "metadata": {},
   "source": [
    "### Short Report\n",
    "\n",
    "Results: The test indicated a significant difference in recall performance between the two groups (t = 2.823, p = 0.0074). Participants in the horizontal eye movement condition exhibited different recall abilities compared to those in the fixed gaze condition.\n",
    "\n",
    "Conclusion: The findings suggest that horizontal eye movements have a significant impact on the memory retrieval process in comparison to a fixed gaze. This aligns with the hypothesis that eye movements can influence cognitive processes such as memory recall."
   ]
  }
 ],
 "metadata": {
  "kernelspec": {
   "display_name": "Python 3 (ipykernel)",
   "language": "python",
   "name": "python3"
  },
  "language_info": {
   "codemirror_mode": {
    "name": "ipython",
    "version": 3
   },
   "file_extension": ".py",
   "mimetype": "text/x-python",
   "name": "python",
   "nbconvert_exporter": "python",
   "pygments_lexer": "ipython3",
   "version": "3.9.13"
  }
 },
 "nbformat": 4,
 "nbformat_minor": 5
}
