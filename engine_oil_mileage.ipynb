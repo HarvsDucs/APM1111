{
 "cells": [
  {
   "cell_type": "code",
   "execution_count": 1,
   "id": "ef7118bd",
   "metadata": {},
   "outputs": [],
   "source": [
    "import numpy as np\n",
    "import pandas as pd\n",
    "from statsmodels.stats.anova import AnovaRM\n",
    "  \n",
    "# Create the data\n",
    "dataframe = pd.DataFrame({'Cars': np.repeat([1, 2, 3, 4, 5], 4),\n",
    "                          'Oil': np.tile([1, 2, 3, 4], 5),\n",
    "                          'Mileage': [36, 38, 30, 29,\n",
    "                                      34, 38, 30, 29,\n",
    "                                      34, 28, 38, 32,\n",
    "                                      38, 34, 20, 44,\n",
    "                                      26, 28, 34, 50]})\n"
   ]
  },
  {
   "cell_type": "code",
   "execution_count": 2,
   "id": "8b5c02cf",
   "metadata": {},
   "outputs": [
    {
     "data": {
      "text/html": [
       "<div>\n",
       "<style scoped>\n",
       "    .dataframe tbody tr th:only-of-type {\n",
       "        vertical-align: middle;\n",
       "    }\n",
       "\n",
       "    .dataframe tbody tr th {\n",
       "        vertical-align: top;\n",
       "    }\n",
       "\n",
       "    .dataframe thead th {\n",
       "        text-align: right;\n",
       "    }\n",
       "</style>\n",
       "<table border=\"1\" class=\"dataframe\">\n",
       "  <thead>\n",
       "    <tr style=\"text-align: right;\">\n",
       "      <th></th>\n",
       "      <th>Cars</th>\n",
       "      <th>Oil</th>\n",
       "      <th>Mileage</th>\n",
       "    </tr>\n",
       "  </thead>\n",
       "  <tbody>\n",
       "    <tr>\n",
       "      <th>0</th>\n",
       "      <td>1</td>\n",
       "      <td>1</td>\n",
       "      <td>36</td>\n",
       "    </tr>\n",
       "    <tr>\n",
       "      <th>1</th>\n",
       "      <td>1</td>\n",
       "      <td>2</td>\n",
       "      <td>38</td>\n",
       "    </tr>\n",
       "    <tr>\n",
       "      <th>2</th>\n",
       "      <td>1</td>\n",
       "      <td>3</td>\n",
       "      <td>30</td>\n",
       "    </tr>\n",
       "    <tr>\n",
       "      <th>3</th>\n",
       "      <td>1</td>\n",
       "      <td>4</td>\n",
       "      <td>29</td>\n",
       "    </tr>\n",
       "    <tr>\n",
       "      <th>4</th>\n",
       "      <td>2</td>\n",
       "      <td>1</td>\n",
       "      <td>34</td>\n",
       "    </tr>\n",
       "    <tr>\n",
       "      <th>5</th>\n",
       "      <td>2</td>\n",
       "      <td>2</td>\n",
       "      <td>38</td>\n",
       "    </tr>\n",
       "    <tr>\n",
       "      <th>6</th>\n",
       "      <td>2</td>\n",
       "      <td>3</td>\n",
       "      <td>30</td>\n",
       "    </tr>\n",
       "    <tr>\n",
       "      <th>7</th>\n",
       "      <td>2</td>\n",
       "      <td>4</td>\n",
       "      <td>29</td>\n",
       "    </tr>\n",
       "    <tr>\n",
       "      <th>8</th>\n",
       "      <td>3</td>\n",
       "      <td>1</td>\n",
       "      <td>34</td>\n",
       "    </tr>\n",
       "    <tr>\n",
       "      <th>9</th>\n",
       "      <td>3</td>\n",
       "      <td>2</td>\n",
       "      <td>28</td>\n",
       "    </tr>\n",
       "    <tr>\n",
       "      <th>10</th>\n",
       "      <td>3</td>\n",
       "      <td>3</td>\n",
       "      <td>38</td>\n",
       "    </tr>\n",
       "    <tr>\n",
       "      <th>11</th>\n",
       "      <td>3</td>\n",
       "      <td>4</td>\n",
       "      <td>32</td>\n",
       "    </tr>\n",
       "    <tr>\n",
       "      <th>12</th>\n",
       "      <td>4</td>\n",
       "      <td>1</td>\n",
       "      <td>38</td>\n",
       "    </tr>\n",
       "    <tr>\n",
       "      <th>13</th>\n",
       "      <td>4</td>\n",
       "      <td>2</td>\n",
       "      <td>34</td>\n",
       "    </tr>\n",
       "    <tr>\n",
       "      <th>14</th>\n",
       "      <td>4</td>\n",
       "      <td>3</td>\n",
       "      <td>20</td>\n",
       "    </tr>\n",
       "    <tr>\n",
       "      <th>15</th>\n",
       "      <td>4</td>\n",
       "      <td>4</td>\n",
       "      <td>44</td>\n",
       "    </tr>\n",
       "    <tr>\n",
       "      <th>16</th>\n",
       "      <td>5</td>\n",
       "      <td>1</td>\n",
       "      <td>26</td>\n",
       "    </tr>\n",
       "    <tr>\n",
       "      <th>17</th>\n",
       "      <td>5</td>\n",
       "      <td>2</td>\n",
       "      <td>28</td>\n",
       "    </tr>\n",
       "    <tr>\n",
       "      <th>18</th>\n",
       "      <td>5</td>\n",
       "      <td>3</td>\n",
       "      <td>34</td>\n",
       "    </tr>\n",
       "    <tr>\n",
       "      <th>19</th>\n",
       "      <td>5</td>\n",
       "      <td>4</td>\n",
       "      <td>50</td>\n",
       "    </tr>\n",
       "  </tbody>\n",
       "</table>\n",
       "</div>"
      ],
      "text/plain": [
       "    Cars  Oil  Mileage\n",
       "0      1    1       36\n",
       "1      1    2       38\n",
       "2      1    3       30\n",
       "3      1    4       29\n",
       "4      2    1       34\n",
       "5      2    2       38\n",
       "6      2    3       30\n",
       "7      2    4       29\n",
       "8      3    1       34\n",
       "9      3    2       28\n",
       "10     3    3       38\n",
       "11     3    4       32\n",
       "12     4    1       38\n",
       "13     4    2       34\n",
       "14     4    3       20\n",
       "15     4    4       44\n",
       "16     5    1       26\n",
       "17     5    2       28\n",
       "18     5    3       34\n",
       "19     5    4       50"
      ]
     },
     "metadata": {},
     "output_type": "display_data"
    },
    {
     "data": {
      "text/plain": [
       "Index(['Cars', 'Oil', 'Mileage'], dtype='object')"
      ]
     },
     "metadata": {},
     "output_type": "display_data"
    }
   ],
   "source": [
    "display(dataframe)\n",
    "display(dataframe.columns)"
   ]
  },
  {
   "cell_type": "markdown",
   "id": "79b02b24",
   "metadata": {},
   "source": [
    "## Provide a full analysis using repeated-measures ANOVA to determine if there is a difference in mileage of cars between four engine oils."
   ]
  },
  {
   "cell_type": "code",
   "execution_count": 3,
   "id": "bed01b75",
   "metadata": {},
   "outputs": [
    {
     "data": {
      "text/html": [
       "<table class=\"simpletable\">\n",
       "<tr>\n",
       "   <td></td>   <th>F Value</th> <th>Num DF</th> <th>Den DF</th>  <th>Pr > F</th>\n",
       "</tr>\n",
       "<tr>\n",
       "  <th>Oil</th> <td>0.5679</td>  <td>3.0000</td> <td>12.0000</td> <td>0.6466</td>\n",
       "</tr>\n",
       "</table><br/>\n"
      ],
      "text/latex": [
       "\\begin{table}\n",
       "\\caption{Anova}\n",
       "\\label{}\n",
       "\\begin{center}\n",
       "\\begin{tabular}{lrrrr}\n",
       "\\hline\n",
       "    & F Value & Num DF &  Den DF & Pr $>$ F  \\\\\n",
       "\\hline\n",
       "Oil &  0.5679 & 3.0000 & 12.0000 &   0.6466  \\\\\n",
       "\\hline\n",
       "\\end{tabular}\n",
       "\\end{center}\n",
       "\\end{table}\n",
       "\\bigskip\n"
      ],
      "text/plain": [
       "<class 'statsmodels.iolib.summary2.Summary'>\n",
       "\"\"\"\n",
       "              Anova\n",
       "=================================\n",
       "    F Value Num DF  Den DF Pr > F\n",
       "---------------------------------\n",
       "Oil  0.5679 3.0000 12.0000 0.6466\n",
       "=================================\n",
       "\n",
       "\"\"\""
      ]
     },
     "execution_count": 3,
     "metadata": {},
     "output_type": "execute_result"
    }
   ],
   "source": [
    "# Perform the repeated measures ANOVA\n",
    "anova_results = AnovaRM(data=dataframe, depvar='Mileage', subject='Cars', within=['Oil']).fit()\n",
    "\n",
    "# Display the results\n",
    "anova_results.summary()"
   ]
  },
  {
   "cell_type": "markdown",
   "id": "45ed90d6",
   "metadata": {},
   "source": [
    "The repeated-measures ANOVA analysis conducted on the dataset comparing the mileage of cars using four different engine oils yielded the following results:\n",
    "\n",
    "F Value: 0.5679\n",
    "Degrees of Freedom (Num DF) for the effect: 3.0000\n",
    "Degrees of Freedom (Den DF) for the error: 12.0000\n",
    "p-value (Pr > F): 0.6466\n",
    "These results indicate that there is no statistically significant difference in the mileage of cars when using the four different engine oils, as the p-value (0.6466) is greater than the conventional threshold of 0.05. This suggests that the type of engine oil does not significantly affect the mileage of the cars in this study. "
   ]
  },
  {
   "cell_type": "markdown",
   "id": "b7d6b49d",
   "metadata": {},
   "source": [
    "## Check the assumptions underlying the said ANOVA type."
   ]
  },
  {
   "cell_type": "code",
   "execution_count": 4,
   "id": "f1dbae17",
   "metadata": {},
   "outputs": [
    {
     "data": {
      "image/png": "[encoded data removed]",
      "text/plain": [
       "<Figure size 2000x500 with 4 Axes>"
      ]
     },
     "metadata": {},
     "output_type": "display_data"
    },
    {
     "data": {
      "text/plain": [
       "{1: 0.22791993618011475,\n",
       " 2: 0.1054743230342865,\n",
       " 3: 0.6155813932418823,\n",
       " 4: 0.14718401432037354}"
      ]
     },
     "execution_count": 4,
     "metadata": {},
     "output_type": "execute_result"
    }
   ],
   "source": [
    "from scipy import stats\n",
    "import matplotlib.pyplot as plt\n",
    "# Check for normality in each group\n",
    "normality_checks = {}\n",
    "for oil_type in dataframe['Oil'].unique():\n",
    "    mileage_data = dataframe[dataframe['Oil'] == oil_type]['Mileage']\n",
    "    w, p_value = stats.shapiro(mileage_data)\n",
    "    normality_checks[oil_type] = p_value\n",
    "\n",
    "# Plotting Q-Q plots for visual inspection of normality\n",
    "fig, axs = plt.subplots(1, 4, figsize=(20, 5))\n",
    "for i, oil_type in enumerate(dataframe['Oil'].unique()):\n",
    "    stats.probplot(dataframe[dataframe['Oil'] == oil_type]['Mileage'], dist=\"norm\", plot=axs[i])\n",
    "    axs[i].set_title(f'Q-Q Plot for Oil Type {oil_type}')\n",
    "\n",
    "plt.tight_layout()\n",
    "plt.show()\n",
    "\n",
    "normality_checks\n"
   ]
  },
  {
   "cell_type": "code",
   "execution_count": 5,
   "id": "18662642",
   "metadata": {},
   "outputs": [
    {
     "data": {
      "text/plain": [
       "LeveneResult(statistic=0.7321365716297078, pvalue=0.5478418985023898)"
      ]
     },
     "execution_count": 5,
     "metadata": {},
     "output_type": "execute_result"
    }
   ],
   "source": [
    "from scipy.stats import levene\n",
    "\n",
    "# Conducting Levene's test for homogeneity of variances\n",
    "levene_test_results = levene(dataframe[dataframe['Oil'] == 1]['Mileage'],\n",
    "                             dataframe[dataframe['Oil'] == 2]['Mileage'],\n",
    "                             dataframe[dataframe['Oil'] == 3]['Mileage'],\n",
    "                             dataframe[dataframe['Oil'] == 4]['Mileage'])\n",
    "\n",
    "levene_test_results\n"
   ]
  },
  {
   "cell_type": "markdown",
   "id": "349f80f6",
   "metadata": {},
   "source": [
    "\n",
    "For a repeated-measures ANOVA, several key assumptions must be met to ensure the validity of the results. Here are the main assumptions and how they can be checked:\n",
    "\n",
    "Normality: The dependent variable should be approximately normally distributed for each group of the within-subjects factor. This assumption can be tested using methods like the Shapiro-Wilk test for normality, or visually inspected using Q-Q plots or histograms for each group.\n",
    "\n",
    "Independence of Observations: Each subject should belong to only one group and the observations within each group must be independent. This is more about the study design and less about something that can be statistically tested. Ensuring proper randomization and control of external factors is vital.\n",
    "\n",
    "Homogeneity of Variances: While less critical in repeated-measures designs compared to between-groups ANOVAs, it's still important to ensure that the variances of differences between groups are similar across all levels of the within-subjects factor.\n",
    "\n",
    "No Significant Outliers: Outliers can have a particularly strong effect on repeated-measures ANOVA. They can be detected using box plots or statistical tests."
   ]
  },
  {
   "cell_type": "markdown",
   "id": "2641ca24",
   "metadata": {},
   "source": [
    "### The Shapiro-Wilk test results for normality, along with the Q-Q plots for each oil type, provide insights into the normality assumption:\n",
    "\n",
    "Oil Type 1: Shapiro-Wilk p-value = 0.228\n",
    "\n",
    "Oil Type 2: Shapiro-Wilk p-value = 0.105\n",
    "\n",
    "Oil Type 3: Shapiro-Wilk p-value = 0.616\n",
    "\n",
    "Oil Type 4: Shapiro-Wilk p-value = 0.147\n",
    "\n",
    "In all cases, the p-values are greater than 0.05, which suggests that the mileage data for each oil type does not significantly deviate from a normal distribution. This is supported by the Q-Q plots, where the points roughly follow the line, indicating a normal distribution.\n",
    "\n"
   ]
  },
  {
   "cell_type": "markdown",
   "id": "d1645732",
   "metadata": {},
   "source": [
    "The other assumptions, such as independence of observations and no significant outliers, are more related to study design and data collection methods, and they typically require domain knowledge and careful examination of the experimental setup and data collection process."
   ]
  },
  {
   "cell_type": "markdown",
   "id": "3c0230d0",
   "metadata": {},
   "source": [
    "### Levene's test for homogeneity of variances"
   ]
  },
  {
   "cell_type": "markdown",
   "id": "c9a48693",
   "metadata": {},
   "source": [
    "Levene's test for homogeneity of variances across the different oil types yielded the following results:\n",
    "\n",
    "Test Statistic: 0.7321\n",
    "\n",
    "p-value: 0.5478\n",
    "\n",
    "The p-value is greater than the conventional alpha level of 0.05, indicating that there is no significant evidence to suggest a violation of the homogeneity of variances assumption. This means that the variances in mileage across the different oil types are similar, supporting the use of repeated-measures ANOVA in the analysis."
   ]
  },
  {
   "cell_type": "markdown",
   "id": "572674eb",
   "metadata": {},
   "source": [
    "## Conclusion"
   ]
  },
  {
   "cell_type": "markdown",
   "id": "02917edb",
   "metadata": {},
   "source": [
    "\n",
    "In conclusion, the repeated-measures ANOVA conducted to compare the mileage of cars using four different engine oils revealed no significant difference in mileage across the oils. The ANOVA results showed a p-value well above the conventional threshold (p = 0.6466), suggesting that the type of engine oil does not have a statistically significant impact on car mileage in this specific study."
   ]
  },
  {
   "cell_type": "code",
   "execution_count": null,
   "id": "1276be5a",
   "metadata": {},
   "outputs": [],
   "source": []
  }
 ],
 "metadata": {
  "kernelspec": {
   "display_name": "Python 3 (ipykernel)",
   "language": "python",
   "name": "python3"
  },
  "language_info": {
   "codemirror_mode": {
    "name": "ipython",
    "version": 3
   },
   "file_extension": ".py",
   "mimetype": "text/x-python",
   "name": "python",
   "nbconvert_exporter": "python",
   "pygments_lexer": "ipython3",
   "version": "3.9.13"
  }
 },
 "nbformat": 4,
 "nbformat_minor": 5
}
