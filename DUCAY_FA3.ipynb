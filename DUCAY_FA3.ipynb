{
 "cells": [
  {
   "cell_type": "code",
   "execution_count": 11,
   "metadata": {},
   "outputs": [
    {
     "name": "stdout",
     "output_type": "stream",
     "text": [
      "Descriptive measure             nums\n",
      "      ---------------  ---------------\n",
      "         Total Values               60\n",
      "                 Mode               28\n",
      "               Median               57\n",
      "                 Mean           59.167\n",
      "   Standard Deviation           22.211\n",
      "             Variance          493.328\n",
      "             Skewness            0.167\n",
      "Std Error of Skewness            0.309\n",
      "             Kurtosis           -1.241\n",
      "Std Error of Kurtosis             0.58\n",
      "              Minimum               25\n",
      "              Maximum               99\n",
      "      25th Percentile            37.75\n",
      "      50th Percentile               57\n",
      "      75th Percentile               76\n",
      "      90th Percentile             89.2\n",
      "      95th Percentile             94.1\n",
      "      ---------------  ---------------\n"
     ]
    }
   ],
   "source": [
    "import pandas as pd\n",
    "import numpy as np\n",
    "from scipy.stats import skew, kurtosis\n",
    "\n",
    "numbers = [\n",
    "    88, 45, 53, 86, 33, 86, 85, 30, 89, 53, 41, 96, 56, 38, 62,\n",
    "    71, 51, 86, 68, 29, 28, 47, 33, 37, 25, 36, 33, 94, 73, 46,\n",
    "    42, 34, 79, 72, 88, 99, 82, 62, 57, 42, 28, 55, 67, 62, 60,\n",
    "    96, 61, 57, 75, 93, 34, 75, 53, 32, 28, 73, 51, 69, 91, 35\n",
    "]\n",
    "\n",
    "df = pd.DataFrame(numbers, columns=['nums'])\n",
    "\n",
    "nums = len(df)\n",
    "statistics = {\n",
    "    'Total Values': nums,\n",
    "    'Mode': df['nums'].mode().values[0],\n",
    "    'Median': df['nums'].median(),\n",
    "    'Mean': df['nums'].mean(),\n",
    "    'Standard Deviation': df['nums'].std(),\n",
    "    'Variance': df['nums'].var(),\n",
    "    'Skewness': skew(df['nums'], bias=False),\n",
    "    'Std Error of Skewness': np.sqrt((6 * nums * (nums - 1)) / ((nums - 2) * (nums + 1) * (nums + 3))),\n",
    "    'Kurtosis': kurtosis(df['nums'], fisher=True),\n",
    "    'Std Error of Kurtosis': 2 * np.sqrt((6 * (nums**2 - 1) * (nums + 1)) / ((nums - 3) * (nums + 3) * (nums + 5) * (nums + 7))),\n",
    "    'Minimum': df['nums'].min(),\n",
    "    'Maximum': df['nums'].max(),\n",
    "}\n",
    "\n",
    "percentage = df['nums'].quantile([0.25, 0.5, 0.75, 0.9, 0.95])\n",
    "statistics.update({\n",
    "    '25th Percentile': percentage[0.25],\n",
    "    '50th Percentile': percentage[0.5],\n",
    "    '75th Percentile': percentage[0.75],\n",
    "    '90th Percentile': percentage[0.9],\n",
    "    '95th Percentile': percentage[0.95],\n",
    "})\n",
    "\n",
    "statistics = {k: round(v, 3) for k, v in statistics.items()}\n",
    "\n",
    "stats_table = pd.DataFrame(list(statistics.items()), columns=['Descriptive measure', 'nums'])\n",
    "\n",
    "border = '-' * 15\n",
    "stats_table = pd.DataFrame({'Descriptive measure': [border], 'nums': [border]}).append(stats_table).append(pd.DataFrame({'Descriptive measure': [border], 'nums': [border]}))\n",
    "\n",
    "print(stats_table.to_string(index=False)) "
   ]
  }
 ],
 "metadata": {
  "kernelspec": {
   "display_name": "Python 3",
   "language": "python",
   "name": "python3"
  },
  "language_info": {
   "codemirror_mode": {
    "name": "ipython",
    "version": 3
   },
   "file_extension": ".py",
   "mimetype": "text/x-python",
   "name": "python",
   "nbconvert_exporter": "python",
   "pygments_lexer": "ipython3",
   "version": "3.7.0"
  }
 },
 "nbformat": 4,
 "nbformat_minor": 2
}
